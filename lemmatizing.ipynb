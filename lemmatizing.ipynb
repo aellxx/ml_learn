{
 "cells": [
  {
   "cell_type": "markdown",
   "id": "69fdd7da",
   "metadata": {},
   "source": [
    "**lemmatizing**: stems word depending on context (e.g. parts of speech); converts words to meaningful base form "
   ]
  },
  {
   "cell_type": "code",
   "execution_count": 9,
   "id": "be854e0d",
   "metadata": {},
   "outputs": [],
   "source": [
    "# import lemmatizing library\n",
    "from nltk.stem import WordNetLemmatizer\n",
    "#import tokenizing library\n",
    "from nltk.tokenize import word_tokenize, sent_tokenize\n",
    "#import stopwords library\n",
    "from nltk.corpus import stopwords\n",
    "\n",
    "DEBUG = True\n",
    "\n",
    "# define lemmatizer\n",
    "lemmatizer = WordNetLemmatizer()\n",
    "# define stopwords\n",
    "stopwords = set(stopwords.words('english'))"
   ]
  },
  {
   "cell_type": "code",
   "execution_count": 16,
   "id": "759db809",
   "metadata": {},
   "outputs": [],
   "source": [
    "example_str = \"Stemming just removes or stems the last few characters of a word, often leading to incorrect meanings and spelling\"\n",
    "example_str_lower = example_str.lower()"
   ]
  },
  {
   "cell_type": "code",
   "execution_count": 17,
   "id": "2cf8b893",
   "metadata": {},
   "outputs": [
    {
     "name": "stdout",
     "output_type": "stream",
     "text": [
      "Tokenized words: ['stemming', 'just', 'removes', 'or', 'stems', 'the', 'last', 'few', 'characters', 'of', 'a', 'word', ',', 'often', 'leading', 'to', 'incorrect', 'meanings', 'and', 'spelling']\n",
      "Without stopwords: ['stemming', 'removes', 'stems', 'last', 'characters', 'word', ',', 'often', 'leading', 'incorrect', 'meanings', 'spelling']\n"
     ]
    }
   ],
   "source": [
    "#tokenize words and get rid of stopwords\n",
    "tokenized_example = word_tokenize(example_str_lower)\n",
    "if DEBUG:\n",
    "    print('Tokenized words:',tokenized_example)\n",
    "\n",
    "reduced_example = [word for word in tokenized_example if word not in stopwords]\n",
    "if DEBUG:\n",
    "    print('Without stopwords:', reduced_example)"
   ]
  },
  {
   "cell_type": "code",
   "execution_count": 18,
   "id": "2b0cbff7",
   "metadata": {},
   "outputs": [
    {
     "name": "stdout",
     "output_type": "stream",
     "text": [
      "Lemmatized: ['stemming', 'remove', 'stem', 'last', 'character', 'word', ',', 'often', 'leading', 'incorrect', 'meaning', 'spelling']\n"
     ]
    }
   ],
   "source": [
    "# lemmatize words\n",
    "lemmatized_example = [lemmatizer.lemmatize(word) for word in reduced_example]\n",
    "if DEBUG:\n",
    "    print('Lemmatized:', lemmatized_example)"
   ]
  },
  {
   "cell_type": "code",
   "execution_count": null,
   "id": "80deb98a",
   "metadata": {},
   "outputs": [],
   "source": []
  }
 ],
 "metadata": {
  "kernelspec": {
   "display_name": "Python 3",
   "language": "python",
   "name": "python3"
  },
  "language_info": {
   "codemirror_mode": {
    "name": "ipython",
    "version": 3
   },
   "file_extension": ".py",
   "mimetype": "text/x-python",
   "name": "python",
   "nbconvert_exporter": "python",
   "pygments_lexer": "ipython3",
   "version": "3.8.8"
  }
 },
 "nbformat": 4,
 "nbformat_minor": 5
}
