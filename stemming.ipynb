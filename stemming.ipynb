{
 "cells": [
  {
   "cell_type": "markdown",
   "id": "b8ddd9a1",
   "metadata": {},
   "source": [
    "**Stemming**: normalizing words by getting rid of unnecessary prefixes and suffixes"
   ]
  },
  {
   "cell_type": "code",
   "execution_count": 4,
   "id": "cb8bd325",
   "metadata": {},
   "outputs": [],
   "source": [
    "# import tokenizing library\n",
    "from nltk.tokenize import sent_tokenize, word_tokenize\n",
    "# import Porter stemmer for stemming words\n",
    "from nltk.stem import PorterStemmer\n",
    "\n",
    "# define stemmer\n",
    "ps = PorterStemmer()"
   ]
  },
  {
   "cell_type": "code",
   "execution_count": 6,
   "id": "141530d4",
   "metadata": {},
   "outputs": [],
   "source": [
    "words = ['python', 'pythoner', 'pythoning', 'pythoned', 'pythonly']"
   ]
  },
  {
   "cell_type": "code",
   "execution_count": 7,
   "id": "deb86972",
   "metadata": {},
   "outputs": [],
   "source": [
    "# stem each word in the words list\n",
    "stemmed_words = [ps.stem(word) for word in words]"
   ]
  },
  {
   "cell_type": "code",
   "execution_count": 8,
   "id": "d0aa57cf",
   "metadata": {},
   "outputs": [
    {
     "name": "stdout",
     "output_type": "stream",
     "text": [
      "Stemmed words: ['python', 'python', 'python', 'python', 'pythonli']\n"
     ]
    }
   ],
   "source": [
    "print(\"Stemmed words:\", stemmed_words)"
   ]
  },
  {
   "cell_type": "code",
   "execution_count": 11,
   "id": "c152f3e4",
   "metadata": {},
   "outputs": [
    {
     "name": "stdout",
     "output_type": "stream",
     "text": [
      "['It', 'is', 'important', 'to', 'by', 'very', 'pythonly', 'while', 'you', 'are', 'pythoning', 'with', 'python', '.', 'All', 'pythoners', 'have', 'pythoned', 'poorly', 'at', 'least', 'once']\n"
     ]
    }
   ],
   "source": [
    "example_sentence = \"It is important to by very pythonly while you are\\\n",
    "                    pythoning with python. All pythoners have pythoned\\\n",
    "                    poorly at least once\"\n",
    "\n",
    "# tokenize example sentence\n",
    "tokenized_words = word_tokenize(example_sentence)\n",
    "print(tokenized_words)"
   ]
  },
  {
   "cell_type": "code",
   "execution_count": 12,
   "id": "5017a044",
   "metadata": {},
   "outputs": [
    {
     "name": "stdout",
     "output_type": "stream",
     "text": [
      "['it', 'is', 'import', 'to', 'by', 'veri', 'pythonli', 'while', 'you', 'are', 'python', 'with', 'python', '.', 'all', 'python', 'have', 'python', 'poorli', 'at', 'least', 'onc']\n"
     ]
    }
   ],
   "source": [
    "# stem words & store in list\n",
    "stemmed_words = [ps.stem(word) for word in tokenized_words]\n",
    "print(stemmed_words)"
   ]
  },
  {
   "cell_type": "code",
   "execution_count": null,
   "id": "bca8694d",
   "metadata": {},
   "outputs": [],
   "source": []
  }
 ],
 "metadata": {
  "kernelspec": {
   "display_name": "Python 3",
   "language": "python",
   "name": "python3"
  },
  "language_info": {
   "codemirror_mode": {
    "name": "ipython",
    "version": 3
   },
   "file_extension": ".py",
   "mimetype": "text/x-python",
   "name": "python",
   "nbconvert_exporter": "python",
   "pygments_lexer": "ipython3",
   "version": "3.8.8"
  }
 },
 "nbformat": 4,
 "nbformat_minor": 5
}
