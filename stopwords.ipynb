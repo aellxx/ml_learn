{
 "cells": [
  {
   "cell_type": "code",
   "execution_count": 1,
   "id": "5e2989ae",
   "metadata": {},
   "outputs": [],
   "source": [
    "from nltk.corpus import stopwords\n",
    "from nltk.tokenize import word_tokenize"
   ]
  },
  {
   "cell_type": "code",
   "execution_count": 5,
   "id": "191669d8",
   "metadata": {},
   "outputs": [],
   "source": [
    "example_sent = \"This is a sample sentence, showing off the stop words\""
   ]
  },
  {
   "cell_type": "code",
   "execution_count": 6,
   "id": "059b5732",
   "metadata": {},
   "outputs": [],
   "source": [
    "# put stop words in a set (common words x indicate topic)\n",
    "stop_words = set(stopwords.words('english'))\n",
    "\n",
    "# tokenize sentence into words\n",
    "word_tokens = word_tokenize(example_sent)\n",
    "\n",
    "# add non-stopwords to filtered_words\n",
    "filtered_words = [word for word in word_tokens if not word in stop_words]"
   ]
  },
  {
   "cell_type": "code",
   "execution_count": 7,
   "id": "504bfb57",
   "metadata": {},
   "outputs": [
    {
     "name": "stdout",
     "output_type": "stream",
     "text": [
      "tokenized words: ['This', 'is', 'a', 'sample', 'sentence', ',', 'showing', 'off', 'the', 'stop', 'words']\n",
      "filtered words: ['This', 'sample', 'sentence', ',', 'showing', 'stop', 'words']\n"
     ]
    }
   ],
   "source": [
    "print(\"tokenized words:\", word_tokens)\n",
    "print(\"filtered words:\", filtered_words)"
   ]
  },
  {
   "cell_type": "code",
   "execution_count": null,
   "id": "9d4644a5",
   "metadata": {},
   "outputs": [],
   "source": []
  }
 ],
 "metadata": {
  "kernelspec": {
   "display_name": "Python 3",
   "language": "python",
   "name": "python3"
  },
  "language_info": {
   "codemirror_mode": {
    "name": "ipython",
    "version": 3
   },
   "file_extension": ".py",
   "mimetype": "text/x-python",
   "name": "python",
   "nbconvert_exporter": "python",
   "pygments_lexer": "ipython3",
   "version": "3.8.8"
  }
 },
 "nbformat": 4,
 "nbformat_minor": 5
}
